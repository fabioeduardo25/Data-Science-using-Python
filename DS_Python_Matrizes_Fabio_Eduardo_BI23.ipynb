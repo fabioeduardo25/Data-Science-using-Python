{
  "nbformat": 4,
  "nbformat_minor": 0,
  "metadata": {
    "colab": {
      "name": "DS_Python_Matrizes_Fabio_Eduardo_BI23.ipynb",
      "provenance": [],
      "collapsed_sections": [],
      "authorship_tag": "ABX9TyNzYiJOw0M06MWPRXZualrE",
      "include_colab_link": true
    },
    "kernelspec": {
      "name": "python3",
      "display_name": "Python 3"
    },
    "language_info": {
      "name": "python"
    }
  },
  "cells": [
    {
      "cell_type": "markdown",
      "metadata": {
        "id": "view-in-github",
        "colab_type": "text"
      },
      "source": [
        "<a href=\"https://colab.research.google.com/github/fabioeduardo25/Data-Science-using-Python/blob/main/DS_Python_Matrizes_Fabio_Eduardo_BI23.ipynb\" target=\"_parent\"><img src=\"https://colab.research.google.com/assets/colab-badge.svg\" alt=\"Open In Colab\"/></a>"
      ]
    },
    {
      "cell_type": "code",
      "metadata": {
        "colab": {
          "base_uri": "https://localhost:8080/"
        },
        "id": "CElFLSJh1iN6",
        "outputId": "33da6892-3384-4a4d-a22c-5df8fc8fc52f"
      },
      "source": [
        "#Lista de Exercicios\n",
        "#\n",
        "#1.Você tem uma lista de número: [6,7,4,7,8,4,2,5,7,'hum','dois']. \n",
        "#A ideia do exercício é tirar a média de todos os valores contidos na lista, \n",
        "# porém para fazer o cálculo precisa remover as strings.\n",
        "\n",
        "lista_de_numeros=[6,7,4,7,8,4,2,5,7,'hum','dois']\n",
        "lista_de_numeros.remove('hum')\n",
        "lista_de_numeros.remove('dois')\n",
        "cont=0\n",
        "soma=0\n",
        "for valor in lista_de_numeros:\n",
        "    cont+=1\n",
        "    if isinstance(valor, (int,float)):\n",
        "        soma+=valor\n",
        "media=soma/cont\n",
        "print(soma)\n",
        "print(cont)\n",
        "print(media)"
      ],
      "execution_count": 29,
      "outputs": [
        {
          "output_type": "stream",
          "text": [
            "50\n",
            "9\n",
            "5.555555555555555\n"
          ],
          "name": "stdout"
        }
      ]
    },
    {
      "cell_type": "code",
      "metadata": {
        "colab": {
          "base_uri": "https://localhost:8080/"
        },
        "id": "onee-W9lGT-j",
        "outputId": "4097aad1-4d31-4404-dce2-b26fa5c5be2f"
      },
      "source": [
        "#2.Crie um método que receba duas matrizes, some os valores total de cada matriz\n",
        "# e depois multiple o resultado delas e retorne o valor.\n",
        "\n",
        "def calcule_matriz(matriz1,matriz2):\n",
        "    soma1=0\n",
        "    soma2=0\n",
        "    for x in matriz1:\n",
        "        soma1+=x\n",
        "    for x in matriz2:\n",
        "        soma2+=x\n",
        "    valor=soma1*soma2\n",
        "    print('A soma da matriz 1 é = ' + str(soma1))\n",
        "    print('A soma da matriz 2 é = ' + str(soma2))\n",
        "    print('A multiplicação é = ' + str(valor))\n",
        "    return valor\n",
        "\n",
        "teste=calcule_matriz([1,3,5,6], [3,4,5,2])\n",
        "print(teste)"
      ],
      "execution_count": 19,
      "outputs": [
        {
          "output_type": "stream",
          "text": [
            "A soma da matriz 1 é = 15\n",
            "A soma da matriz 2 é = 14\n",
            "A multiplicação é = 210\n",
            "210\n"
          ],
          "name": "stdout"
        }
      ]
    },
    {
      "cell_type": "code",
      "metadata": {
        "colab": {
          "base_uri": "https://localhost:8080/"
        },
        "id": "nKRZal0lIhnx",
        "outputId": "39ae1c6f-8d14-4968-c496-fa4c1bb6b9a9"
      },
      "source": [
        "#3.Criar uma matriz nxm (n = 5, m =7)\n",
        "#a.faça a matriz transposta desta matriz\n",
        "#b.somar toda matrix\n",
        "#c.somar todas as colunas\n",
        "#d.somar todas as linhas.\n",
        "#e.retorne o maior valor\n",
        "#f.retorne o menor valor.\n",
        "\n",
        "import numpy as np\n",
        "from numpy import random\n",
        "\n",
        "#Criar uma matriz nxm (n = 5, m =7)\n",
        "n = 5\n",
        "m = 7\n",
        "matriz1 = np.random.randint(1,99, (n,m))\n",
        "print('Matriz')\n",
        "print(matriz1)\n",
        "#faça a matriz transposta desta matriz\n",
        "matriz2=matriz1.T\n",
        "print('Matriz Transposta')\n",
        "print(matriz2)\n",
        "#somar toda matrix\n",
        "print('Soma de toda Matriz')\n",
        "print(matriz2.sum())\n",
        "#somar todas as colunas\n",
        "print('Soma de todas as Colunas')\n",
        "print(matriz2.sum(axis=0))\n",
        "#somar todas as linhas.\n",
        "print('Soma de todas as Linhas')\n",
        "print(matriz2.sum(axis=1))\n",
        "#retorne o maior valor\n",
        "print('Retorno do maior valor da Matriz')\n",
        "print(matriz2.max())\n",
        "#retorne o menor valor.\n",
        "print('Retorno do menor valor da Matriz')\n",
        "print(matriz2.min())\n",
        "\n"
      ],
      "execution_count": 23,
      "outputs": [
        {
          "output_type": "stream",
          "text": [
            "Matriz\n",
            "[[61 85 18 72  5 30 73]\n",
            " [39 39 33 32 58 35  7]\n",
            " [75 19 28 40 95  8 27]\n",
            " [36 35 40 49 40 88 48]\n",
            " [40 58 18 55 23 10 96]]\n",
            "Matriz Transposta\n",
            "[[61 39 75 36 40]\n",
            " [85 39 19 35 58]\n",
            " [18 33 28 40 18]\n",
            " [72 32 40 49 55]\n",
            " [ 5 58 95 40 23]\n",
            " [30 35  8 88 10]\n",
            " [73  7 27 48 96]]\n",
            "Soma de toda Matriz\n",
            "1515\n",
            "Soma de todas as Colunas\n",
            "[344 243 292 336 300]\n",
            "Soma de todas as Linhas\n",
            "[251 236 137 248 221 171 251]\n",
            "Retorno do maior valor da Matriz\n",
            "96\n",
            "Retorno do menor valor da Matriz\n",
            "5\n"
          ],
          "name": "stdout"
        }
      ]
    },
    {
      "cell_type": "code",
      "metadata": {
        "colab": {
          "base_uri": "https://localhost:8080/"
        },
        "id": "UnbEgCFj-1B1",
        "outputId": "d2729314-2929-47dd-8e1a-466c4fffddd3"
      },
      "source": [
        "#4.Crie uma matriz nxn (n=5). Agora some essa matriz com a matriz do exercício 3.\n",
        "n=5\n",
        "matriz3 = np.random.randint(1,99, (n,n))\n",
        "print(matriz2.sum()+matriz3.sum())"
      ],
      "execution_count": 16,
      "outputs": [
        {
          "output_type": "stream",
          "text": [
            "2837\n"
          ],
          "name": "stdout"
        }
      ]
    },
    {
      "cell_type": "code",
      "metadata": {
        "colab": {
          "base_uri": "https://localhost:8080/"
        },
        "id": "Rs_7LX0qAvMs",
        "outputId": "045bc33b-930d-48be-81d6-dd361d397bc1"
      },
      "source": [
        "#5.Crie um array de números que vai de 0 a 1000.\n",
        "n=5\n",
        "matriz4 = np.random.randint(1,1000, (n,n))\n",
        "print(matriz4)"
      ],
      "execution_count": 20,
      "outputs": [
        {
          "output_type": "stream",
          "text": [
            "[[702 637 535 261 417]\n",
            " [932 634 323 224 716]\n",
            " [285 150 328 961 534]\n",
            " [668 776 156 119 363]\n",
            " [577 534 990 185 400]]\n"
          ],
          "name": "stdout"
        }
      ]
    },
    {
      "cell_type": "code",
      "metadata": {
        "colab": {
          "base_uri": "https://localhost:8080/"
        },
        "id": "mYhn71L0Cg46",
        "outputId": "f872e3b1-466f-42f2-c650-57117979058d"
      },
      "source": [
        "#6.Crie uma matriz só de zeros.\n",
        "matriz5=np.zeros(5)\n",
        "#ou\n",
        "matriz6=[0] * 5\n",
        "print(matriz5)\n",
        "print(matriz6)"
      ],
      "execution_count": 30,
      "outputs": [
        {
          "output_type": "stream",
          "text": [
            "[0. 0. 0. 0. 0.]\n",
            "[0, 0, 0, 0, 0]\n"
          ],
          "name": "stdout"
        }
      ]
    }
  ]
}