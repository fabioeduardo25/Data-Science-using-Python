{
  "nbformat": 4,
  "nbformat_minor": 0,
  "metadata": {
    "colab": {
      "name": "DS_Python_Trabalho_Final_Fabio_Eduardo_BI23.ipynb",
      "provenance": [],
      "authorship_tag": "ABX9TyNyEzHVv/gBJz3msExfAGhp",
      "include_colab_link": true
    },
    "kernelspec": {
      "name": "python3",
      "display_name": "Python 3"
    },
    "language_info": {
      "name": "python"
    }
  },
  "cells": [
    {
      "cell_type": "markdown",
      "metadata": {
        "id": "view-in-github",
        "colab_type": "text"
      },
      "source": [
        "<a href=\"https://colab.research.google.com/github/fabioeduardo25/Data-Science-using-Python/blob/main/DS_Python_Trabalho_Final_Fabio_Eduardo_BI23.ipynb\" target=\"_parent\"><img src=\"https://colab.research.google.com/assets/colab-badge.svg\" alt=\"Open In Colab\"/></a>"
      ]
    },
    {
      "cell_type": "code",
      "metadata": {
        "id": "cX9XPWwFaQH9"
      },
      "source": [
        "from datetime import datetime\n",
        "import calendar\n",
        "from pathlib import Path\n",
        "from collections import Counter\n",
        "import collections\n",
        "import pandas as pd\n",
        "import matplotlib\n",
        "import matplotlib.pyplot as plt\n",
        "import seaborn as sns"
      ],
      "execution_count": 2,
      "outputs": []
    },
    {
      "cell_type": "code",
      "metadata": {
        "colab": {
          "base_uri": "https://localhost:8080/"
        },
        "id": "x7kR-Hy8d3Uh",
        "outputId": "0dca0783-1c10-468d-a738-f26fb4fda7e0"
      },
      "source": [
        "from datetime import datetime\n",
        "import calendar\n",
        "from pathlib import Path\n",
        "from collections import Counter\n",
        "import collections\n",
        "\n",
        "data_t, hora_t, arrayPalavras = [], [], []\n",
        "\n",
        "with open('_chat.txt', 'r', encoding='utf8') as f:\n",
        "    for linha in f:\n",
        "        try:\n",
        "           \n",
        "            if linha[0:1] != \"[\":                \n",
        "                #print(f'Mensagem: {linha[linha.find(\": \") + 2 : linha[2:].find(\"[\")]}') \n",
        "                palavras.append(linha[linha.find(\": \") + 2 : linha[2:].find(\"[\")].replace('\\n','').split(' '))\n",
        "            else:\n",
        "                #print(f'data: {linha[linha.find(\"[\") + 2 : 11]}')\n",
        "                #print(f'hora: {linha[linha.find(\"[\") + 12 : 17]}')\n",
        "                #print(f'Mensagem: {linha[linha.find(\": \") + 2 : linha[2:].find(\"[\")]}') \n",
        "                #print(linha[linha.find(\"]\") + 1 : linha[2:].find(\": \")])\n",
        "                data_t.append(calendar.day_name[datetime.strptime(str(linha[1:11]), '%d/%m/%Y').weekday()])\n",
        "                hora_t.append(linha[12:14])\n",
        "                arrayPalavras.append(linha[linha.find(\": \") + 2 : linha[2:].find(\"[\")].replace('\\n','').split(' '))                \n",
        "        except:\n",
        "            pass\n",
        "\n",
        "palavras = [ j for i in arrayPalavras for j in i]\n",
        "\n",
        "palavras.remove('o')\n",
        "\n",
        "for p in palavras:\n",
        "    if len(p) < 2:\n",
        "        palavras.remove(p)\n",
        "\n",
        "print(f'Os 3 tipos de palavras mais trocadas por mensagens: {Counter(palavras).most_common()[0]} {Counter(palavras).most_common()[1]} {Counter(palavras).most_common()[3]}')\n",
        "print(f'O dia da semana que tem mais troca de mensagens: {Counter(data_t).most_common()[1]}')\n",
        "print(f'O horário do dia que tem mais troca de mensagens: {Counter(hora_t).most_common()[1]}')\n",
        "print(f'O horário do dia que te menos troca de mensagens: {Counter(hora_t).most_common()[-1]}')\n"
      ],
      "execution_count": 7,
      "outputs": [
        {
          "output_type": "stream",
          "text": [
            "Os 3 tipos de palavras mais trocadas por mensagens: ('de', 16) ('que', 11) ('por', 8)\n",
            "O dia da semana que tem mais troca de mensagens: ('Tuesday', 39)\n",
            "O horário do dia que tem mais troca de mensagens: ('19', 24)\n",
            "O horário do dia que te menos troca de mensagens: ('18', 1)\n"
          ],
          "name": "stdout"
        }
      ]
    }
  ]
}